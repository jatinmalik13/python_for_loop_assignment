{
 "cells": [
  {
   "cell_type": "code",
   "execution_count": 2,
   "id": "3dd37342-e745-4436-b3fb-35d969308498",
   "metadata": {},
   "outputs": [
    {
     "name": "stdout",
     "output_type": "stream",
     "text": [
      "1\n",
      "2\n",
      "3\n",
      "4\n",
      "5\n",
      "6\n",
      "7\n",
      "8\n",
      "9\n",
      "10\n"
     ]
    }
   ],
   "source": [
    "#Q1 Write a Python program to print the numbers from 1 to 10 using a `for` loop.\n",
    "\n",
    "#ANS -\n",
    "for number in range(1, 11):\n",
    "    print(number)"
   ]
  },
  {
   "cell_type": "code",
   "execution_count": 4,
   "id": "b1c84660-a99d-4d8b-a548-d629da614d00",
   "metadata": {},
   "outputs": [
    {
     "name": "stdout",
     "output_type": "stream",
     "text": [
      "Sum of numbers: 55\n"
     ]
    }
   ],
   "source": [
    "#Q2 Create a program that calculates the sum of all numbers in a list using a `for` loop.\n",
    "\n",
    "#ANS - \n",
    "numbers = [1, 2, 3, 4, 5, 6, 7, 8, 9, 10]\n",
    "sum_of_numbers = 0\n",
    "for number in numbers:\n",
    "    sum_of_numbers += number\n",
    "\n",
    "\n",
    "print(\"Sum of numbers:\", sum_of_numbers)"
   ]
  },
  {
   "cell_type": "code",
   "execution_count": 6,
   "id": "454b646d-dae0-4f05-a885-b04b7bca5a9d",
   "metadata": {},
   "outputs": [
    {
     "name": "stdout",
     "output_type": "stream",
     "text": [
      "Original string: Hello, World!\n",
      "Reversed string: !dlroW ,olleH\n"
     ]
    }
   ],
   "source": [
    "#Q3  Write a program to print the characters of a string in reverse order using a `for` loop.\n",
    "\n",
    "#ANS - \n",
    "\n",
    "input_string = \"Hello, World!\"\n",
    "\n",
    "\n",
    "reversed_string = \"\"\n",
    "\n",
    "\n",
    "for char in reversed(input_string):\n",
    "    reversed_string += char\n",
    "\n",
    "\n",
    "print(\"Original string:\", input_string)\n",
    "print(\"Reversed string:\", reversed_string)\n"
   ]
  },
  {
   "cell_type": "code",
   "execution_count": 8,
   "id": "4c21c8b1-8be3-451b-9faa-db2714ebe097",
   "metadata": {},
   "outputs": [
    {
     "name": "stdin",
     "output_type": "stream",
     "text": [
      "Enter a number to calculate its factorial:  4\n"
     ]
    },
    {
     "name": "stdout",
     "output_type": "stream",
     "text": [
      "The factorial of 4 is: 24\n"
     ]
    }
   ],
   "source": [
    "#Q4 - Develop a program that finds the factorial of a given number using a `for` loop.\n",
    "\n",
    "#ANS - \n",
    "\n",
    "def calculate_factorial(number):\n",
    "    # Initialize the result to 1\n",
    "    factorial_result = 1\n",
    "    \n",
    "    for i in range(1, number + 1):\n",
    "        factorial_result *= i\n",
    "\n",
    "    return factorial_result\n",
    "\n",
    "input_number = int(input(\"Enter a number to calculate its factorial: \"))\n",
    "if input_number < 0:\n",
    "    print(\"Factorial is not defined for negative numbers.\")\n",
    "else:\n",
    "    result = calculate_factorial(input_number)\n",
    "    print(f\"The factorial of {input_number} is: {result}\")\n"
   ]
  },
  {
   "cell_type": "code",
   "execution_count": 10,
   "id": "5caa566b-2c39-4d43-9044-aebda7a6793e",
   "metadata": {},
   "outputs": [
    {
     "name": "stdin",
     "output_type": "stream",
     "text": [
      "Enter a number to print its multiplication table:  2\n"
     ]
    },
    {
     "name": "stdout",
     "output_type": "stream",
     "text": [
      "Multiplication table for 2:\n",
      "2 x 1 = 2\n",
      "2 x 2 = 4\n",
      "2 x 3 = 6\n",
      "2 x 4 = 8\n",
      "2 x 5 = 10\n",
      "2 x 6 = 12\n",
      "2 x 7 = 14\n",
      "2 x 8 = 16\n",
      "2 x 9 = 18\n",
      "2 x 10 = 20\n"
     ]
    }
   ],
   "source": [
    "#Q5 - Create a program to print the multiplication table of a given number using a `for` loop.\n",
    "\n",
    "#ANS - \n",
    "\n",
    "input_number = int(input(\"Enter a number to print its multiplication table: \"))\n",
    "\n",
    "\n",
    "if input_number < 0:\n",
    "    print(\"Multiplication table is not defined for negative numbers.\")\n",
    "else:\n",
    "\n",
    "    print(f\"Multiplication table for {input_number}:\")\n",
    "    for i in range(1, 11):\n",
    "        result = input_number * i\n",
    "        print(f\"{input_number} x {i} = {result}\")\n"
   ]
  },
  {
   "cell_type": "code",
   "execution_count": 13,
   "id": "119efbac-9008-4e09-b3c4-588600fcee99",
   "metadata": {},
   "outputs": [
    {
     "name": "stdout",
     "output_type": "stream",
     "text": [
      "List of numbers: [1, 2, 3, 4, 5, 6, 7, 8, 9, 10]\n",
      "Number of even numbers: 5\n",
      "Number of odd numbers: 5\n"
     ]
    }
   ],
   "source": [
    "#Q6- Write a program that counts the number of even and odd numbers in a list using a `for` loop.\n",
    "\n",
    "#ANS -\n",
    "\n",
    "numbers = [1, 2, 3, 4, 5, 6, 7, 8, 9, 10]\n",
    "\n",
    "\n",
    "even_count = 0\n",
    "odd_count = 0\n",
    "\n",
    "\n",
    "for number in numbers:\n",
    "    if number % 2 == 0:\n",
    "        even_count += 1\n",
    "    else:\n",
    "        odd_count += 1\n",
    "\n",
    "\n",
    "print(\"List of numbers:\", numbers)\n",
    "print(\"Number of even numbers:\", even_count)\n",
    "print(\"Number of odd numbers:\", odd_count)\n"
   ]
  },
  {
   "cell_type": "code",
   "execution_count": 15,
   "id": "aff0f51a-70cd-4b7a-8ed8-f4b74d1c8da2",
   "metadata": {},
   "outputs": [
    {
     "name": "stdout",
     "output_type": "stream",
     "text": [
      "The square of 1 is: 1\n",
      "The square of 2 is: 4\n",
      "The square of 3 is: 9\n",
      "The square of 4 is: 16\n",
      "The square of 5 is: 25\n"
     ]
    }
   ],
   "source": [
    "#Q7- Develop a program that prints the squares of numbers from 1 to 5 using a `for` loop.\n",
    "\n",
    "#ANS - \n",
    "\n",
    "for number in range(1, 6):\n",
    "    square = number ** 2\n",
    "    print(f\"The square of {number} is: {square}\")\n"
   ]
  },
  {
   "cell_type": "code",
   "execution_count": 17,
   "id": "a49dce24-7a20-46e1-a6f6-043e38f8f287",
   "metadata": {},
   "outputs": [
    {
     "name": "stdin",
     "output_type": "stream",
     "text": [
      "Enter a string:  sudh\n"
     ]
    },
    {
     "name": "stdout",
     "output_type": "stream",
     "text": [
      "The length of the string is: 4\n"
     ]
    }
   ],
   "source": [
    "#Q8- 8. Create a program to find the length of a string without using the `len()` function.\n",
    "\n",
    "#ANS - \n",
    "\n",
    "input_string = input(\"Enter a string: \")\n",
    "\n",
    "\n",
    "length = 0\n",
    "\n",
    "for char in input_string:\n",
    "    length += 1\n",
    "print(f\"The length of the string is: {length}\")\n"
   ]
  },
  {
   "cell_type": "code",
   "execution_count": 20,
   "id": "783024a2-05f7-4e56-beb7-6dc32816ee74",
   "metadata": {},
   "outputs": [
    {
     "name": "stdout",
     "output_type": "stream",
     "text": [
      "The average of the numbers is: 16.8\n"
     ]
    }
   ],
   "source": [
    "#Q9 - Write a program that calculates the average of a list of numbers using a `for` loop.\n",
    "\n",
    "#ANS -\n",
    "\n",
    "numbers = [10, 5, 8, 12, 7]\n",
    "\n",
    "count = 0\n",
    "\n",
    "for number in numbers:\n",
    "    sum_of_numbers += number\n",
    "    count += 1\n",
    "\n",
    "if count != 0:\n",
    "   \n",
    "    average = sum_of_numbers / count\n",
    "    print(f\"The average of the numbers is: {average}\")\n",
    "else:\n",
    "    print(\"The list is empty. Cannot calculate average.\")\n"
   ]
  },
  {
   "cell_type": "code",
   "execution_count": 22,
   "id": "13d469fa-15a0-48e0-b80a-de7e6d07a7d2",
   "metadata": {},
   "outputs": [
    {
     "name": "stdin",
     "output_type": "stream",
     "text": [
      "Enter the value of n for Fibonacci sequence:  5\n"
     ]
    },
    {
     "name": "stdout",
     "output_type": "stream",
     "text": [
      "The first 5 Fibonacci numbers are: [0, 1, 1, 2, 3]\n"
     ]
    }
   ],
   "source": [
    "#Q10 - Develop a program that prints the first `n` Fibonacci numbers using a `for` loop.\n",
    "\n",
    "#ANS - \n",
    "\n",
    "def generate_fibonacci(n):\n",
    "    fibonacci_sequence = [0, 1]\n",
    "\n",
    "    for i in range(2, n):\n",
    "        next_fibonacci = fibonacci_sequence[i-1] + fibonacci_sequence[i-2]\n",
    "        fibonacci_sequence.append(next_fibonacci)\n",
    "\n",
    "    return fibonacci_sequence\n",
    "\n",
    "\n",
    "n = int(input(\"Enter the value of n for Fibonacci sequence: \"))\n",
    "\n",
    "if n <= 0:\n",
    "    print(\"Please enter a positive integer.\")\n",
    "else:\n",
    "\n",
    "    fibonacci_numbers = generate_fibonacci(n)\n",
    "    print(f\"The first {n} Fibonacci numbers are: {fibonacci_numbers}\")\n"
   ]
  },
  {
   "cell_type": "code",
   "execution_count": 24,
   "id": "78b62967-ac4e-4914-9fa3-1151d9de73d1",
   "metadata": {},
   "outputs": [
    {
     "name": "stdout",
     "output_type": "stream",
     "text": [
      "The list contains duplicates.\n"
     ]
    }
   ],
   "source": [
    "#q11- Write a program to check if a given list contains any duplicates using a `for` loop.\n",
    "\n",
    "#ANS \n",
    "\n",
    "def has_duplicates(input_list):\n",
    "    seen = set()\n",
    "    for item in input_list:\n",
    "        if item in seen:\n",
    "            return True\n",
    "        seen.add(item)\n",
    "    return False\n",
    "\n",
    "\n",
    "sample_list = [1, 2, 3, 4, 5, 2, 6, 7, 8]\n",
    "\n",
    "\n",
    "if has_duplicates(sample_list):\n",
    "    print(\"The list contains duplicates.\")\n",
    "else:\n",
    "    print(\"The list does not contain duplicates.\")\n"
   ]
  },
  {
   "cell_type": "code",
   "execution_count": 26,
   "id": "dc1da0eb-eedc-4e3b-8717-06a6046123ea",
   "metadata": {},
   "outputs": [
    {
     "name": "stdin",
     "output_type": "stream",
     "text": [
      "Enter the starting range:  1\n",
      "Enter the ending range:  90\n"
     ]
    },
    {
     "name": "stdout",
     "output_type": "stream",
     "text": [
      "Prime numbers in the range 1 to 90:\n",
      "2\n",
      "3\n",
      "5\n",
      "7\n",
      "11\n",
      "13\n",
      "17\n",
      "19\n",
      "23\n",
      "29\n",
      "31\n",
      "37\n",
      "41\n",
      "43\n",
      "47\n",
      "53\n",
      "59\n",
      "61\n",
      "67\n",
      "71\n",
      "73\n",
      "79\n",
      "83\n",
      "89\n"
     ]
    }
   ],
   "source": [
    "#Q12- Create a program that prints the prime numbers in a given range using a `for` loop.\n",
    "\n",
    "#ANS -\n",
    "def is_prime(number):\n",
    "    if number < 2:\n",
    "        return False\n",
    "    for i in range(2, int(number**0.5) + 1):\n",
    "        if number % i == 0:\n",
    "            return False\n",
    "    return True\n",
    "\n",
    "\n",
    "start_range = int(input(\"Enter the starting range: \"))\n",
    "end_range = int(input(\"Enter the ending range: \"))\n",
    "\n",
    "\n",
    "print(f\"Prime numbers in the range {start_range} to {end_range}:\")\n",
    "for num in range(start_range, end_range + 1):\n",
    "    if is_prime(num):\n",
    "        print(num)\n"
   ]
  },
  {
   "cell_type": "code",
   "execution_count": 28,
   "id": "ed0863d1-2eac-4642-92cd-b80650c5a7ce",
   "metadata": {},
   "outputs": [
    {
     "name": "stdin",
     "output_type": "stream",
     "text": [
      "Enter a string:  tiger\n"
     ]
    },
    {
     "name": "stdout",
     "output_type": "stream",
     "text": [
      "The number of vowels in the string is: 2\n"
     ]
    }
   ],
   "source": [
    "#Q13 - Develop a program that counts the number of vowels in a string using a `for` loop.\n",
    "\n",
    "#ANS - \n",
    "\n",
    "def count_vowels(input_string):\n",
    "    vowels = \"aeiouAEIOU\"\n",
    "    vowel_count = 0\n",
    "    \n",
    "    for char in input_string:\n",
    "        if char in vowels:\n",
    "            vowel_count += 1\n",
    "            \n",
    "    return vowel_count\n",
    "\n",
    "\n",
    "input_string = input(\"Enter a string: \")\n",
    "\n",
    "\n",
    "result = count_vowels(input_string)\n",
    "print(f\"The number of vowels in the string is: {result}\")\n"
   ]
  },
  {
   "cell_type": "code",
   "execution_count": 31,
   "id": "55fade18-f945-49d3-bc83-2ba89e89450c",
   "metadata": {},
   "outputs": [
    {
     "name": "stdout",
     "output_type": "stream",
     "text": [
      "The maximum element in the 2D list is: 9\n"
     ]
    }
   ],
   "source": [
    "#14. Write a program to find the maximum element in a 2D list using a nested `for` loop.\n",
    "\n",
    "#ANS - \n",
    "\n",
    "def find_max_element(matrix):\n",
    "    if not matrix or not matrix[0]:\n",
    "        return None  \n",
    "\n",
    "    max_element = matrix[0][0]\n",
    "\n",
    "    for row in matrix:\n",
    "        for element in row:\n",
    "            if element > max_element:\n",
    "                max_element = element\n",
    "\n",
    "    return max_element\n",
    "\n",
    "\n",
    "matrix = [\n",
    "    [3, 8, 1],\n",
    "    [4, 7, 2],\n",
    "    [9, 5, 6]\n",
    "]\n",
    "\n",
    "\n",
    "max_element = find_max_element(matrix)\n",
    "print(f\"The maximum element in the 2D list is: {max_element}\")\n",
    "\n"
   ]
  },
  {
   "cell_type": "code",
   "execution_count": 37,
   "id": "747dcb1b-0bbd-4d68-842f-25883bf0a0b3",
   "metadata": {},
   "outputs": [
    {
     "name": "stdin",
     "output_type": "stream",
     "text": [
      "Enter the element to remove:  4\n"
     ]
    },
    {
     "name": "stdout",
     "output_type": "stream",
     "text": [
      "The list after removing all occurrences of 4: [1, 2, 3, 2, 2, 5]\n"
     ]
    }
   ],
   "source": [
    "#15. Create a program that removes all occurrences of a specific element from a list using a `for` loop.\n",
    "\n",
    "#ANS -\n",
    "\n",
    "def remove_element(input_list, element_to_remove):\n",
    "    updated_list = []\n",
    "    \n",
    "    for item in input_list:\n",
    "        if item != element_to_remove:\n",
    "            updated_list.append(item)\n",
    "    \n",
    "    return updated_list\n",
    "\n",
    "\n",
    "sample_list = [1, 2, 3, 2, 4, 2, 5]\n",
    "\n",
    "element_to_remove = int(input(\"Enter the element to remove: \"))\n",
    "\n",
    "updated_list = remove_element(sample_list, element_to_remove)\n",
    "print(f\"The list after removing all occurrences of {element_to_remove}: {updated_list}\")\n"
   ]
  },
  {
   "cell_type": "code",
   "execution_count": 39,
   "id": "eb87c828-1b02-4163-a744-91bb86a7fd54",
   "metadata": {},
   "outputs": [
    {
     "name": "stdout",
     "output_type": "stream",
     "text": [
      "\n",
      "Multiplication table for 1:\n",
      "\n",
      "1 x 1 = 1\n",
      "1 x 2 = 2\n",
      "1 x 3 = 3\n",
      "1 x 4 = 4\n",
      "1 x 5 = 5\n",
      "1 x 6 = 6\n",
      "1 x 7 = 7\n",
      "1 x 8 = 8\n",
      "1 x 9 = 9\n",
      "1 x 10 = 10\n",
      "\n",
      "Multiplication table for 2:\n",
      "\n",
      "2 x 1 = 2\n",
      "2 x 2 = 4\n",
      "2 x 3 = 6\n",
      "2 x 4 = 8\n",
      "2 x 5 = 10\n",
      "2 x 6 = 12\n",
      "2 x 7 = 14\n",
      "2 x 8 = 16\n",
      "2 x 9 = 18\n",
      "2 x 10 = 20\n",
      "\n",
      "Multiplication table for 3:\n",
      "\n",
      "3 x 1 = 3\n",
      "3 x 2 = 6\n",
      "3 x 3 = 9\n",
      "3 x 4 = 12\n",
      "3 x 5 = 15\n",
      "3 x 6 = 18\n",
      "3 x 7 = 21\n",
      "3 x 8 = 24\n",
      "3 x 9 = 27\n",
      "3 x 10 = 30\n",
      "\n",
      "Multiplication table for 4:\n",
      "\n",
      "4 x 1 = 4\n",
      "4 x 2 = 8\n",
      "4 x 3 = 12\n",
      "4 x 4 = 16\n",
      "4 x 5 = 20\n",
      "4 x 6 = 24\n",
      "4 x 7 = 28\n",
      "4 x 8 = 32\n",
      "4 x 9 = 36\n",
      "4 x 10 = 40\n",
      "\n",
      "Multiplication table for 5:\n",
      "\n",
      "5 x 1 = 5\n",
      "5 x 2 = 10\n",
      "5 x 3 = 15\n",
      "5 x 4 = 20\n",
      "5 x 5 = 25\n",
      "5 x 6 = 30\n",
      "5 x 7 = 35\n",
      "5 x 8 = 40\n",
      "5 x 9 = 45\n",
      "5 x 10 = 50\n"
     ]
    }
   ],
   "source": [
    "#Q16 Develop a program that generates a multiplication table for numbers from 1 to 5 using a nested `for` loop.\n",
    "\n",
    "#ANS - \n",
    "\n",
    "for i in range(1, 6):\n",
    "    print(f\"\\nMultiplication table for {i}:\\n\")\n",
    "    for j in range(1, 11):\n",
    "        result = i * j\n",
    "        print(f\"{i} x {j} = {result}\")\n"
   ]
  },
  {
   "cell_type": "code",
   "execution_count": 41,
   "id": "030f8af5-74cb-414b-b4b9-7e036a9d8adf",
   "metadata": {},
   "outputs": [
    {
     "name": "stdout",
     "output_type": "stream",
     "text": [
      "Fahrenheit Temperatures: [32, 68, 212, 98.6, 77]\n",
      "\n",
      "Conversion to Celsius:\n",
      "32°F is 0.00°C\n",
      "68°F is 20.00°C\n",
      "212°F is 100.00°C\n",
      "98.6°F is 37.00°C\n",
      "77°F is 25.00°C\n"
     ]
    }
   ],
   "source": [
    "#17. Write a program that converts a list of Fahrenheit temperatures to Celsius using a `for` loop.\n",
    "\n",
    "#ANS - \n",
    "\n",
    "\n",
    "def fahrenheit_to_celsius(fahrenheit):\n",
    "    return (fahrenheit - 32) * 5/9\n",
    "\n",
    "\n",
    "fahrenheit_temperatures = [32, 68, 212, 98.6, 77]\n",
    "\n",
    "\n",
    "print(\"Fahrenheit Temperatures:\", fahrenheit_temperatures)\n",
    "print(\"\\nConversion to Celsius:\")\n",
    "for temp in fahrenheit_temperatures:\n",
    "    celsius_temp = fahrenheit_to_celsius(temp)\n",
    "    print(f\"{temp}°F is {celsius_temp:.2f}°C\")\n"
   ]
  },
  {
   "cell_type": "code",
   "execution_count": 43,
   "id": "8cd726ad-6c12-47eb-929b-0703f660f577",
   "metadata": {},
   "outputs": [
    {
     "name": "stdout",
     "output_type": "stream",
     "text": [
      "List 1: [1, 2, 3, 4, 5]\n",
      "List 2: [3, 4, 5, 6, 7]\n",
      "Common elements: [3, 4, 5]\n"
     ]
    }
   ],
   "source": [
    "#18. Create a program to print the common elements from two lists using a `for` loop.\n",
    "\n",
    "#ANS \n",
    "\n",
    "\n",
    "def find_common_elements(list1, list2):\n",
    "    common_elements = []\n",
    "\n",
    "    for item in list1:\n",
    "        if item in list2 and item not in common_elements:\n",
    "            common_elements.append(item)\n",
    "\n",
    "    return common_elements\n",
    "\n",
    "list1 = [1, 2, 3, 4, 5]\n",
    "list2 = [3, 4, 5, 6, 7]\n",
    "\n",
    "\n",
    "common_elements = find_common_elements(list1, list2)\n",
    "print(\"List 1:\", list1)\n",
    "print(\"List 2:\", list2)\n",
    "print(\"Common elements:\", common_elements)\n"
   ]
  },
  {
   "cell_type": "code",
   "execution_count": 46,
   "id": "61351342-ae9e-4162-b9dd-82b2650ef9dc",
   "metadata": {},
   "outputs": [
    {
     "name": "stdin",
     "output_type": "stream",
     "text": [
      "Enter the number of rows for the pattern:  6\n"
     ]
    },
    {
     "name": "stdout",
     "output_type": "stream",
     "text": [
      "* \n",
      "* * \n",
      "* * * \n",
      "* * * * \n",
      "* * * * * \n",
      "* * * * * * \n"
     ]
    }
   ],
   "source": [
    "#19. Develop a program that prints the pattern of right-angled triangles using a `for` loop. Use ‘*’ to draw the\n",
    "#pattern\n",
    "\n",
    "#ANS - \n",
    "\n",
    "def print_right_angle_triangle(rows):\n",
    "    for i in range(1, rows + 1):\n",
    "        for j in range(1, i + 1):\n",
    "            print(\"*\", end=\" \")\n",
    "        print()\n",
    "\n",
    "\n",
    "rows = int(input(\"Enter the number of rows for the pattern: \"))\n",
    "\n",
    "\n",
    "print_right_angle_triangle(rows)\n"
   ]
  },
  {
   "cell_type": "code",
   "execution_count": 48,
   "id": "c9e3de4c-5e0d-4f95-860b-96a648309d0a",
   "metadata": {},
   "outputs": [
    {
     "name": "stdin",
     "output_type": "stream",
     "text": [
      "Enter the first number:  1\n",
      "Enter the second number:  10\n"
     ]
    },
    {
     "name": "stdout",
     "output_type": "stream",
     "text": [
      "The GCD of 1 and 10 is: 1\n"
     ]
    }
   ],
   "source": [
    "#20. Write a program to find the greatest common divisor (GCD) of two numbers using a `for` loop.\n",
    "\n",
    "#ANS -\n",
    "\n",
    "def find_gcd(num1, num2):\n",
    " \n",
    "    if num1 < num2:\n",
    "        num1, num2 = num2, num1\n",
    "\n",
    "   \n",
    "    for i in range(num2, 0, -1):\n",
    "        if num1 % i == 0 and num2 % i == 0:\n",
    "            return i\n",
    "\n",
    "\n",
    "    return 1\n",
    "\n",
    "\n",
    "num1 = int(input(\"Enter the first number: \"))\n",
    "num2 = int(input(\"Enter the second number: \"))\n",
    "\n",
    "\n",
    "gcd = find_gcd(num1, num2)\n",
    "print(f\"The GCD of {num1} and {num2} is: {gcd}\")\n"
   ]
  },
  {
   "cell_type": "code",
   "execution_count": 52,
   "id": "dc571996-d885-4320-acb4-4419b668d12e",
   "metadata": {},
   "outputs": [
    {
     "name": "stdin",
     "output_type": "stream",
     "text": [
      "Enter the first number:  90\n",
      "Enter the second number:  99\n"
     ]
    },
    {
     "name": "stdout",
     "output_type": "stream",
     "text": [
      "The GCD of 90 and 99 is: 9\n"
     ]
    }
   ],
   "source": [
    "#21. Create a program that calculates the sum of the digits of numbers in a list using a list comprehension.\n",
    "\n",
    "#ANS \n",
    "\n",
    "def find_gcd(num1, num2):\n",
    "   \n",
    "    if num1 < num2:\n",
    "        num1, num2 = num2, num1\n",
    "\n",
    "    for i in range(num2, 0, -1):\n",
    "        if num1 % i == 0 and num2 % i == 0:\n",
    "            return i\n",
    "\n",
    "  \n",
    "    return 1\n",
    "\n",
    "num1 = int(input(\"Enter the first number: \"))\n",
    "num2 = int(input(\"Enter the second number: \"))\n",
    "\n",
    "\n",
    "gcd = find_gcd(num1, num2)\n",
    "print(f\"The GCD of {num1} and {num2} is: {gcd}\")\n"
   ]
  },
  {
   "cell_type": "code",
   "execution_count": 54,
   "id": "a84e8600-93d5-449f-ad52-c54e46cacf02",
   "metadata": {},
   "outputs": [
    {
     "name": "stdin",
     "output_type": "stream",
     "text": [
      "Enter a number to find its prime factors:  24\n"
     ]
    },
    {
     "name": "stdout",
     "output_type": "stream",
     "text": [
      "The prime factors of 24 are: [2, 3]\n"
     ]
    }
   ],
   "source": [
    "#22. Write a program to find the prime factors of a given number using a `for` loop and list comprehension.\n",
    "\n",
    "#ANS - \n",
    "\n",
    "def prime_factors(n):\n",
    "    factors = [i for i in range(2, n + 1) if n % i == 0 and all(i % j != 0 for j in range(2, int(i**0.5) + 1))]\n",
    "    return factors\n",
    "\n",
    "\n",
    "number = int(input(\"Enter a number to find its prime factors: \"))\n",
    "\n",
    "\n",
    "result = prime_factors(number)\n",
    "print(f\"The prime factors of {number} are: {result}\")\n"
   ]
  },
  {
   "cell_type": "code",
   "execution_count": 56,
   "id": "6ec61a89-293f-48c5-8367-fe068846a895",
   "metadata": {},
   "outputs": [
    {
     "name": "stdout",
     "output_type": "stream",
     "text": [
      "Original List: [1, 2, 2, 3, 4, 4, 5, 6, 6, 7]\n",
      "Unique Elements List: [1, 2, 3, 4, 5, 6, 7]\n"
     ]
    }
   ],
   "source": [
    "# 23. Develop a program that extracts unique elements from a list and stores them in a new list using a list\n",
    "#comprehension.\n",
    "\n",
    "#ANS \n",
    "\n",
    "original_list = [1, 2, 2, 3, 4, 4, 5, 6, 6, 7]\n",
    "\n",
    "\n",
    "unique_elements = list(set(original_list))\n",
    "\n",
    "print(\"Original List:\", original_list)\n",
    "print(\"Unique Elements List:\", unique_elements)\n"
   ]
  },
  {
   "cell_type": "code",
   "execution_count": 58,
   "id": "5fdd2468-8c9c-4fcc-acc0-96a73574183f",
   "metadata": {},
   "outputs": [
    {
     "name": "stdin",
     "output_type": "stream",
     "text": [
      "Enter the upper limit for palindromic numbers:  6\n"
     ]
    },
    {
     "name": "stdout",
     "output_type": "stream",
     "text": [
      "Palindromic Numbers up to 6: [0, 1, 2, 3, 4, 5, 6]\n"
     ]
    }
   ],
   "source": [
    "#24. Create a program that generates a list of all palindromic numbers up to a specified limit using a list\n",
    "#comprehension.\n",
    "\n",
    "#ANS \n",
    "\n",
    "def is_palindromic(number):\n",
    "    return str(number) == str(number)[::-1]\n",
    "\n",
    "\n",
    "limit = int(input(\"Enter the upper limit for palindromic numbers: \"))\n",
    "\n",
    "palindromic_numbers = [num for num in range(limit + 1) if is_palindromic(num)]\n",
    "\n",
    "\n",
    "print(f\"Palindromic Numbers up to {limit}: {palindromic_numbers}\")\n"
   ]
  },
  {
   "cell_type": "code",
   "execution_count": 60,
   "id": "71a5fc71-2325-44de-bbd7-39fbceea8179",
   "metadata": {},
   "outputs": [
    {
     "name": "stdout",
     "output_type": "stream",
     "text": [
      "Original Nested List: [[1, 2, 3], [4, 5], [6, 7, 8]]\n",
      "Flattened List: [1, 2, 3, 4, 5, 6, 7, 8]\n"
     ]
    }
   ],
   "source": [
    "#25. Write a program to flatten a nested list using list comprehension.\n",
    "\n",
    "#ANS -\n",
    "\n",
    "def flatten_nested_list(nested_list):\n",
    "    return [item for sublist in nested_list for item in sublist]\n",
    "\n",
    "\n",
    "nested_list = [[1, 2, 3], [4, 5], [6, 7, 8]]\n",
    "\n",
    "\n",
    "flattened_list = flatten_nested_list(nested_list)\n",
    "print(\"Original Nested List:\", nested_list)\n",
    "print(\"Flattened List:\", flattened_list)\n"
   ]
  },
  {
   "cell_type": "code",
   "execution_count": 62,
   "id": "86a04b4b-15b7-4211-82bc-a025a572b094",
   "metadata": {},
   "outputs": [
    {
     "name": "stdout",
     "output_type": "stream",
     "text": [
      "Original List of Numbers: [1, 2, 3, 4, 5, 6, 7, 8, 9, 10]\n",
      "Sum of Even Numbers: 30\n",
      "Sum of Odd Numbers: 25\n"
     ]
    }
   ],
   "source": [
    "#26. Develop a program that computes the sum of even and odd numbers in a list separately using list\n",
    "#comprehension.\n",
    "\n",
    "#AMS \n",
    "\n",
    "\n",
    "numbers = [1, 2, 3, 4, 5, 6, 7, 8, 9, 10]\n",
    "\n",
    "sum_even = sum([num for num in numbers if num % 2 == 0])\n",
    "sum_odd = sum([num for num in numbers if num % 2 != 0])\n",
    "\n",
    "\n",
    "print(\"Original List of Numbers:\", numbers)\n",
    "print(\"Sum of Even Numbers:\", sum_even)\n",
    "print(\"Sum of Odd Numbers:\", sum_odd)\n"
   ]
  },
  {
   "cell_type": "code",
   "execution_count": 64,
   "id": "e4d960b9-7b6b-483a-98c8-b2bfcc9c1455",
   "metadata": {},
   "outputs": [
    {
     "name": "stdout",
     "output_type": "stream",
     "text": [
      "List of Squares of Odd Numbers between 1 and 10: [1, 9, 25, 49, 81]\n"
     ]
    }
   ],
   "source": [
    "#27. Create a program that generates a list of squares of odd numbers between 1 and 10 using list\n",
    "#comprehension.\n",
    "\n",
    "#ANS -\n",
    "\n",
    "\n",
    "squares_of_odd_numbers = [num**2 for num in range(1, 11) if num % 2 != 0]\n",
    "\n",
    "\n",
    "print(\"List of Squares of Odd Numbers between 1 and 10:\", squares_of_odd_numbers)\n"
   ]
  },
  {
   "cell_type": "code",
   "execution_count": 66,
   "id": "69ff65a3-23b6-4422-8271-7b718850a501",
   "metadata": {},
   "outputs": [
    {
     "name": "stdout",
     "output_type": "stream",
     "text": [
      "Combined Dictionary: {'name': 'John', 'age': 25, 'city': 'New York'}\n"
     ]
    }
   ],
   "source": [
    "#28. Write a program that combines two lists into a dictionary using list comprehension.\n",
    "\n",
    "#ANS -\n",
    "\n",
    "keys = ['name', 'age', 'city']\n",
    "values = ['John', 25, 'New York']\n",
    "\n",
    "\n",
    "combined_dict = {keys[i]: values[i] for i in range(min(len(keys), len(values)))}\n",
    "\n",
    "\n",
    "print(\"Combined Dictionary:\", combined_dict)\n",
    "\n"
   ]
  },
  {
   "cell_type": "code",
   "execution_count": 68,
   "id": "4d938034-f8b6-427e-8596-68897c3dd4a4",
   "metadata": {},
   "outputs": [
    {
     "name": "stdin",
     "output_type": "stream",
     "text": [
      "Enter a string:  jascgscff\n"
     ]
    },
    {
     "name": "stdout",
     "output_type": "stream",
     "text": [
      "Original String: jascgscff\n",
      "List of Vowels: ['a']\n"
     ]
    }
   ],
   "source": [
    "#29. Develop a program that extracts the vowels from a string and stores them in a list using list comprehension.\n",
    "\n",
    "#ANS -\n",
    "\n",
    "def is_vowel(char):\n",
    "    return char.lower() in 'aeiou'\n",
    "\n",
    "\n",
    "input_string = input(\"Enter a string: \")\n",
    "\n",
    "\n",
    "vowels_list = [char for char in input_string if is_vowel(char)]\n",
    "\n",
    "\n",
    "print(\"Original String:\", input_string)\n",
    "print(\"List of Vowels:\", vowels_list)\n"
   ]
  },
  {
   "cell_type": "code",
   "execution_count": 70,
   "id": "766b391c-cbde-49a7-b277-572d80a17331",
   "metadata": {},
   "outputs": [
    {
     "name": "stdout",
     "output_type": "stream",
     "text": [
      "Original List of Strings: ['abc123', '456def', '789', 'xyz']\n",
      "List of Numeric Strings: ['123', '456', '789', '']\n"
     ]
    }
   ],
   "source": [
    "#30. Create a program that removes all non-numeric characters from a list of strings using list comprehension.\n",
    "\n",
    "#ANS _\n",
    "\n",
    "\n",
    "strings_list = ['abc123', '456def', '789', 'xyz']\n",
    "\n",
    "\n",
    "numeric_strings = [''.join(char for char in string if char.isdigit()) for string in strings_list]\n",
    "\n",
    "\n",
    "print(\"Original List of Strings:\", strings_list)\n",
    "print(\"List of Numeric Strings:\", numeric_strings)\n"
   ]
  },
  {
   "cell_type": "code",
   "execution_count": 73,
   "id": "bd84d488-f16b-434a-a50f-6403ccdf07f1",
   "metadata": {},
   "outputs": [
    {
     "name": "stdin",
     "output_type": "stream",
     "text": [
      "Enter the upper limit for prime numbers:  55\n"
     ]
    },
    {
     "name": "stdout",
     "output_type": "stream",
     "text": [
      "Prime numbers up to 55: [2, 3, 5, 7, 11, 13, 17, 19, 23, 29, 31, 37, 41, 43, 47, 53]\n"
     ]
    }
   ],
   "source": [
    "#31. Write a program to generate a list of prime numbers using the Sieve of Eratosthenes algorithm and list\n",
    "#comprehension.\n",
    "\n",
    "#AMS -\n",
    "\n",
    "def sieve_of_eratosthenes(limit):\n",
    "    primes = [True] * (limit + 1)\n",
    "    primes[0] = primes[1] = False\n",
    "\n",
    "    for i in range(2, int(limit**0.5) + 1):\n",
    "        if primes[i]:\n",
    "            primes[i*i:limit+1:i] = [False] * len(primes[i*i:limit+1:i])\n",
    "\n",
    "    return [num for num in range(2, limit + 1) if primes[num]]\n",
    "\n",
    "\n",
    "limit = int(input(\"Enter the upper limit for prime numbers: \"))\n",
    "\n",
    "\n",
    "prime_numbers = sieve_of_eratosthenes(limit)\n",
    "print(f\"Prime numbers up to {limit}: {prime_numbers}\")\n",
    "\n"
   ]
  },
  {
   "cell_type": "code",
   "execution_count": 75,
   "id": "884956f2-5eb0-4b9f-bde8-4f0941a3eba4",
   "metadata": {},
   "outputs": [
    {
     "name": "stdin",
     "output_type": "stream",
     "text": [
      "Enter the upper limit for Pythagorean triplets:  44\n"
     ]
    },
    {
     "name": "stdout",
     "output_type": "stream",
     "text": [
      "Pythagorean triplets up to 44: [(3, 4, 5), (5, 12, 13), (6, 8, 10), (7, 24, 25), (8, 15, 17), (9, 12, 15), (9, 40, 41), (10, 24, 26), (12, 16, 20), (12, 35, 37), (15, 20, 25), (15, 36, 39), (16, 30, 34), (18, 24, 30), (20, 21, 29), (21, 28, 35), (24, 32, 40)]\n"
     ]
    }
   ],
   "source": [
    "#32. Create a program that generates a list of all Pythagorean triplets up to a specified limit using list\n",
    "#comprehension.\n",
    "\n",
    "#ANS -\n",
    "\n",
    "\n",
    "def pythagorean_triplets(limit):\n",
    "    triplets = [(a, b, c) for a in range(1, limit) for b in range(a, limit) for c in range(b, limit) if a**2 + b**2 == c**2]\n",
    "    return triplets\n",
    "\n",
    "\n",
    "limit = int(input(\"Enter the upper limit for Pythagorean triplets: \"))\n",
    "\n",
    "\n",
    "triplets = pythagorean_triplets(limit)\n",
    "print(f\"Pythagorean triplets up to {limit}: {triplets}\")\n"
   ]
  },
  {
   "cell_type": "code",
   "execution_count": 76,
   "id": "8ba0568f-4421-43af-8a76-3473cb1d951d",
   "metadata": {},
   "outputs": [
    {
     "name": "stdout",
     "output_type": "stream",
     "text": [
      "List 1: [1, 2, 3]\n",
      "List 2: ['a', 'b', 'c']\n",
      "All Possible Combinations: [(1, 'a'), (1, 'b'), (1, 'c'), (2, 'a'), (2, 'b'), (2, 'c'), (3, 'a'), (3, 'b'), (3, 'c')]\n"
     ]
    }
   ],
   "source": [
    "#33. Develop a program that generates a list of all possible combinations of two lists using list comprehension.\n",
    "\n",
    "#ANS - \n",
    "\n",
    "\n",
    "list1 = [1, 2, 3]\n",
    "list2 = ['a', 'b', 'c']\n",
    "\n",
    "\n",
    "combinations = [(item1, item2) for item1 in list1 for item2 in list2]\n",
    "\n",
    "\n",
    "print(\"List 1:\", list1)\n",
    "print(\"List 2:\", list2)\n",
    "print(\"All Possible Combinations:\", combinations)\n"
   ]
  },
  {
   "cell_type": "code",
   "execution_count": 78,
   "id": "ced75ff5-3f27-48c5-9769-b7721ee42cad",
   "metadata": {},
   "outputs": [
    {
     "name": "stdout",
     "output_type": "stream",
     "text": [
      "Original List of Numbers: [3, 1, 4, 1, 5, 9, 2, 6, 5, 3, 5]\n",
      "Calculated Mean: 4.0\n",
      "Calculated Median: 4.0\n",
      "Calculated Mode: 5\n"
     ]
    }
   ],
   "source": [
    "#34. Write a program that calculates the mean, median, and mode of a list of numbers using list\n",
    "#comprehension.\n",
    "\n",
    "#ANS -\n",
    "\n",
    "from statistics import mean, median, mode\n",
    "\n",
    "\n",
    "numbers = [3, 1, 4, 1, 5, 9, 2, 6, 5, 3, 5]\n",
    "\n",
    "\n",
    "calculated_mean = sum(numbers) / len(numbers)\n",
    "sorted_numbers = sorted(numbers)\n",
    "middle_index = len(sorted_numbers) // 2\n",
    "calculated_median = (sorted_numbers[middle_index] + sorted_numbers[-middle_index-1]) / 2\n",
    "\n",
    "\n",
    "print(\"Original List of Numbers:\", numbers)\n",
    "print(\"Calculated Mean:\", calculated_mean)\n",
    "print(\"Calculated Median:\", calculated_median)\n",
    "print(\"Calculated Mode:\", mode(numbers))\n"
   ]
  },
  {
   "cell_type": "code",
   "execution_count": 84,
   "id": "ef3d3dd9-df2c-4474-b61c-1ebadde6fa9f",
   "metadata": {},
   "outputs": [],
   "source": [
    "#35. Create a program that generates Pascal's triangle up to a specified number of rows using list\n",
    "#comprehension.\n",
    "\n",
    "#ANS -\n",
    "\n"
   ]
  },
  {
   "cell_type": "code",
   "execution_count": 86,
   "id": "0be6c159-11ef-434f-b872-365d59b326a8",
   "metadata": {},
   "outputs": [
    {
     "name": "stdout",
     "output_type": "stream",
     "text": [
      "Factorial Sums for Numbers 1 to 5: [1, 2, 6, 6, 3]\n"
     ]
    }
   ],
   "source": [
    "#36. Develop a program that calculates the sum of the digits of a factorial of numbers from 1 to 5 using list\n",
    "#comprehension.\n",
    "\n",
    "#ANS -\n",
    "\n",
    "from math import factorial\n",
    "\n",
    "def sum_of_digits(number):\n",
    "    return sum(int(digit) for digit in str(number))\n",
    "\n",
    "\n",
    "factorial_sums = [sum_of_digits(factorial(num)) for num in range(1, 6)]\n",
    "\n",
    "\n",
    "print(\"Factorial Sums for Numbers 1 to 5:\", factorial_sums)\n",
    "\n"
   ]
  },
  {
   "cell_type": "code",
   "execution_count": 88,
   "id": "6b163db3-886f-4f96-a498-6d511a186dc9",
   "metadata": {},
   "outputs": [
    {
     "name": "stdin",
     "output_type": "stream",
     "text": [
      "Enter a sentence:  hi im jasin\n"
     ]
    },
    {
     "name": "stdout",
     "output_type": "stream",
     "text": [
      "The longest word in the sentence is: jasin\n"
     ]
    }
   ],
   "source": [
    "#37. Write a program that finds the longest word in a sentence using list comprehension.\n",
    "\n",
    "#ANS -\n",
    "\n",
    "def find_longest_word(sentence):\n",
    "    words = sentence.split()\n",
    "    longest_word = max(words, key=len)\n",
    "    return longest_word\n",
    "\n",
    "input_sentence = input(\"Enter a sentence: \")\n",
    "\n",
    "\n",
    "longest_word = find_longest_word(input_sentence)\n",
    "print(f\"The longest word in the sentence is: {longest_word}\")\n"
   ]
  },
  {
   "cell_type": "code",
   "execution_count": 90,
   "id": "7e39faab-a8ad-4b1a-a9cb-32b8ec753601",
   "metadata": {},
   "outputs": [
    {
     "name": "stdout",
     "output_type": "stream",
     "text": [
      "Original List of Strings: ['hello', 'python', 'programming', 'list', 'comprehension']\n",
      "Filtered Strings with More than Three Vowels: ['comprehension']\n"
     ]
    }
   ],
   "source": [
    "#38. Create a program that filters a list of strings to include only those with more than three vowels using list\n",
    "#comprehension.\n",
    "\n",
    "#ANS \n",
    "\n",
    "def count_vowels(input_string):\n",
    "    vowels = \"aeiouAEIOU\"\n",
    "    return sum(1 for char in input_string if char in vowels)\n",
    "\n",
    "\n",
    "strings_list = ['hello', 'python', 'programming', 'list', 'comprehension']\n",
    "\n",
    "\n",
    "filtered_strings = [string for string in strings_list if count_vowels(string) > 3]\n",
    "\n",
    "\n",
    "print(\"Original List of Strings:\", strings_list)\n",
    "print(\"Filtered Strings with More than Three Vowels:\", filtered_strings)\n"
   ]
  },
  {
   "cell_type": "code",
   "execution_count": 94,
   "id": "1c703b36-f8b1-4bac-b0b1-78dddeaef0b5",
   "metadata": {},
   "outputs": [
    {
     "name": "stdout",
     "output_type": "stream",
     "text": [
      "Sum of Digits for Numbers 1 to 1000: [1, 2, 3, 4, 5, 6, 7, 8, 9, 1, 2, 3, 4, 5, 6, 7, 8, 9, 10, 2, 3, 4, 5, 6, 7, 8, 9, 10, 11, 3, 4, 5, 6, 7, 8, 9, 10, 11, 12, 4, 5, 6, 7, 8, 9, 10, 11, 12, 13, 5, 6, 7, 8, 9, 10, 11, 12, 13, 14, 6, 7, 8, 9, 10, 11, 12, 13, 14, 15, 7, 8, 9, 10, 11, 12, 13, 14, 15, 16, 8, 9, 10, 11, 12, 13, 14, 15, 16, 17, 9, 10, 11, 12, 13, 14, 15, 16, 17, 18, 1, 2, 3, 4, 5, 6, 7, 8, 9, 10, 2, 3, 4, 5, 6, 7, 8, 9, 10, 11, 3, 4, 5, 6, 7, 8, 9, 10, 11, 12, 4, 5, 6, 7, 8, 9, 10, 11, 12, 13, 5, 6, 7, 8, 9, 10, 11, 12, 13, 14, 6, 7, 8, 9, 10, 11, 12, 13, 14, 15, 7, 8, 9, 10, 11, 12, 13, 14, 15, 16, 8, 9, 10, 11, 12, 13, 14, 15, 16, 17, 9, 10, 11, 12, 13, 14, 15, 16, 17, 18, 10, 11, 12, 13, 14, 15, 16, 17, 18, 19, 2, 3, 4, 5, 6, 7, 8, 9, 10, 11, 3, 4, 5, 6, 7, 8, 9, 10, 11, 12, 4, 5, 6, 7, 8, 9, 10, 11, 12, 13, 5, 6, 7, 8, 9, 10, 11, 12, 13, 14, 6, 7, 8, 9, 10, 11, 12, 13, 14, 15, 7, 8, 9, 10, 11, 12, 13, 14, 15, 16, 8, 9, 10, 11, 12, 13, 14, 15, 16, 17, 9, 10, 11, 12, 13, 14, 15, 16, 17, 18, 10, 11, 12, 13, 14, 15, 16, 17, 18, 19, 11, 12, 13, 14, 15, 16, 17, 18, 19, 20, 3, 4, 5, 6, 7, 8, 9, 10, 11, 12, 4, 5, 6, 7, 8, 9, 10, 11, 12, 13, 5, 6, 7, 8, 9, 10, 11, 12, 13, 14, 6, 7, 8, 9, 10, 11, 12, 13, 14, 15, 7, 8, 9, 10, 11, 12, 13, 14, 15, 16, 8, 9, 10, 11, 12, 13, 14, 15, 16, 17, 9, 10, 11, 12, 13, 14, 15, 16, 17, 18, 10, 11, 12, 13, 14, 15, 16, 17, 18, 19, 11, 12, 13, 14, 15, 16, 17, 18, 19, 20, 12, 13, 14, 15, 16, 17, 18, 19, 20, 21, 4, 5, 6, 7, 8, 9, 10, 11, 12, 13, 5, 6, 7, 8, 9, 10, 11, 12, 13, 14, 6, 7, 8, 9, 10, 11, 12, 13, 14, 15, 7, 8, 9, 10, 11, 12, 13, 14, 15, 16, 8, 9, 10, 11, 12, 13, 14, 15, 16, 17, 9, 10, 11, 12, 13, 14, 15, 16, 17, 18, 10, 11, 12, 13, 14, 15, 16, 17, 18, 19, 11, 12, 13, 14, 15, 16, 17, 18, 19, 20, 12, 13, 14, 15, 16, 17, 18, 19, 20, 21, 13, 14, 15, 16, 17, 18, 19, 20, 21, 22, 5, 6, 7, 8, 9, 10, 11, 12, 13, 14, 6, 7, 8, 9, 10, 11, 12, 13, 14, 15, 7, 8, 9, 10, 11, 12, 13, 14, 15, 16, 8, 9, 10, 11, 12, 13, 14, 15, 16, 17, 9, 10, 11, 12, 13, 14, 15, 16, 17, 18, 10, 11, 12, 13, 14, 15, 16, 17, 18, 19, 11, 12, 13, 14, 15, 16, 17, 18, 19, 20, 12, 13, 14, 15, 16, 17, 18, 19, 20, 21, 13, 14, 15, 16, 17, 18, 19, 20, 21, 22, 14, 15, 16, 17, 18, 19, 20, 21, 22, 23, 6, 7, 8, 9, 10, 11, 12, 13, 14, 15, 7, 8, 9, 10, 11, 12, 13, 14, 15, 16, 8, 9, 10, 11, 12, 13, 14, 15, 16, 17, 9, 10, 11, 12, 13, 14, 15, 16, 17, 18, 10, 11, 12, 13, 14, 15, 16, 17, 18, 19, 11, 12, 13, 14, 15, 16, 17, 18, 19, 20, 12, 13, 14, 15, 16, 17, 18, 19, 20, 21, 13, 14, 15, 16, 17, 18, 19, 20, 21, 22, 14, 15, 16, 17, 18, 19, 20, 21, 22, 23, 15, 16, 17, 18, 19, 20, 21, 22, 23, 24, 7, 8, 9, 10, 11, 12, 13, 14, 15, 16, 8, 9, 10, 11, 12, 13, 14, 15, 16, 17, 9, 10, 11, 12, 13, 14, 15, 16, 17, 18, 10, 11, 12, 13, 14, 15, 16, 17, 18, 19, 11, 12, 13, 14, 15, 16, 17, 18, 19, 20, 12, 13, 14, 15, 16, 17, 18, 19, 20, 21, 13, 14, 15, 16, 17, 18, 19, 20, 21, 22, 14, 15, 16, 17, 18, 19, 20, 21, 22, 23, 15, 16, 17, 18, 19, 20, 21, 22, 23, 24, 16, 17, 18, 19, 20, 21, 22, 23, 24, 25, 8, 9, 10, 11, 12, 13, 14, 15, 16, 17, 9, 10, 11, 12, 13, 14, 15, 16, 17, 18, 10, 11, 12, 13, 14, 15, 16, 17, 18, 19, 11, 12, 13, 14, 15, 16, 17, 18, 19, 20, 12, 13, 14, 15, 16, 17, 18, 19, 20, 21, 13, 14, 15, 16, 17, 18, 19, 20, 21, 22, 14, 15, 16, 17, 18, 19, 20, 21, 22, 23, 15, 16, 17, 18, 19, 20, 21, 22, 23, 24, 16, 17, 18, 19, 20, 21, 22, 23, 24, 25, 17, 18, 19, 20, 21, 22, 23, 24, 25, 26, 9, 10, 11, 12, 13, 14, 15, 16, 17, 18, 10, 11, 12, 13, 14, 15, 16, 17, 18, 19, 11, 12, 13, 14, 15, 16, 17, 18, 19, 20, 12, 13, 14, 15, 16, 17, 18, 19, 20, 21, 13, 14, 15, 16, 17, 18, 19, 20, 21, 22, 14, 15, 16, 17, 18, 19, 20, 21, 22, 23, 15, 16, 17, 18, 19, 20, 21, 22, 23, 24, 16, 17, 18, 19, 20, 21, 22, 23, 24, 25, 17, 18, 19, 20, 21, 22, 23, 24, 25, 26, 18, 19, 20, 21, 22, 23, 24, 25, 26, 27, 1]\n"
     ]
    }
   ],
   "source": [
    "#39. Develop a program that calculates the sum of the digits of numbers from 1 to 1000 using list\n",
    "#comprehension.\n",
    "\n",
    "#ANS -\n",
    "\n",
    "\n",
    "def sum_of_digits(number):\n",
    "    return sum(int(digit) for digit in str(number))\n",
    "\n",
    "\n",
    "digit_sums = [sum_of_digits(num) for num in range(1, 1001)]\n",
    "\n",
    "\n",
    "print(\"Sum of Digits for Numbers 1 to 1000:\", digit_sums)\n",
    "\n",
    "\n"
   ]
  },
  {
   "cell_type": "code",
   "execution_count": 96,
   "id": "ba71d6c3-139a-4476-82a9-3e7e9a52ec93",
   "metadata": {},
   "outputs": [
    {
     "name": "stdout",
     "output_type": "stream",
     "text": [
      "Prime Palindromic Numbers up to 1000: [2, 3, 5, 7, 11, 101, 131, 151, 181, 191, 313, 353, 373, 383, 727, 757, 787, 797, 919, 929]\n"
     ]
    }
   ],
   "source": [
    "#40. Write a program that generates a list of prime palindromic numbers using list comprehension.\n",
    "\n",
    "#ANS -\n",
    "\n",
    "\n",
    "def is_prime(num):\n",
    "    if num < 2:\n",
    "        return False\n",
    "    for i in range(2, int(num**0.5) + 1):\n",
    "        if num % i == 0:\n",
    "            return False\n",
    "    return True\n",
    "\n",
    "\n",
    "def is_palindromic(num):\n",
    "    return str(num) == str(num)[::-1]\n",
    "\n",
    "\n",
    "prime_palindromes = [num for num in range(1, 1000) if is_prime(num) and is_palindromic(num)]\n",
    "\n",
    "\n",
    "print(\"Prime Palindromic Numbers up to 1000:\", prime_palindromes)\n"
   ]
  },
  {
   "cell_type": "code",
   "execution_count": null,
   "id": "573bd2c6-8613-41c3-b5d8-73a0c73363b3",
   "metadata": {},
   "outputs": [],
   "source": []
  }
 ],
 "metadata": {
  "kernelspec": {
   "display_name": "Python 3 (ipykernel)",
   "language": "python",
   "name": "python3"
  },
  "language_info": {
   "codemirror_mode": {
    "name": "ipython",
    "version": 3
   },
   "file_extension": ".py",
   "mimetype": "text/x-python",
   "name": "python",
   "nbconvert_exporter": "python",
   "pygments_lexer": "ipython3",
   "version": "3.12.0"
  }
 },
 "nbformat": 4,
 "nbformat_minor": 5
}
